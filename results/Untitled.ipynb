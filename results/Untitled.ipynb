{
 "cells": [
  {
   "cell_type": "code",
   "execution_count": 1,
   "id": "71fe0bf2-a569-4fa1-9abb-117f4be56de7",
   "metadata": {},
   "outputs": [
    {
     "name": "stdout",
     "output_type": "stream",
     "text": [
      "Wrote merged CSV with episode_q_meandiff → Humanoid-v4-merged.csv\n"
     ]
    }
   ],
   "source": [
    "import pandas as pd\n",
    "\n",
    "# 1) load each CSV\n",
    "df_q    = pd.read_csv(\"Humanoid-v4-pairwise_q_mean_diff.csv\")\n",
    "df_main = pd.read_csv(\"Humanoid-v4-pairwise_per_episode.csv\")\n",
    "\n",
    "# 2) pick the join‐keys\n",
    "merge_cols = [\n",
    "    \"env\",\n",
    "    \"algorithm\",\n",
    "    \"actor_i_alpha\",\n",
    "    \"actor_i_seed\",\n",
    "    \"checkpoint_i\",\n",
    "    \"actor_j_alpha\",\n",
    "    \"actor_j_seed\",\n",
    "    \"checkpoint_j\",\n",
    "    \"episode_idx\",\n",
    "]\n",
    "\n",
    "# 3) merge the Q‐diff column into your main table\n",
    "df_merged = df_main.merge(\n",
    "    df_q[merge_cols + [\"episode_q_meandiff\"]],\n",
    "    on=merge_cols,\n",
    "    how=\"left\",            # keeps all rows in df_main, fills missing with NaN\n",
    "    validate=\"one_to_one\"  # sanity check that you don’t accidentally duplicate rows\n",
    ")\n",
    "\n",
    "# 4) save out a new CSV\n",
    "df_merged.to_csv(\"Humanoid-v4-merged.csv\", index=False)\n",
    "print(\"Wrote merged CSV with episode_q_meandiff → Humanoid-v4-merged.csv\")"
   ]
  },
  {
   "cell_type": "code",
   "execution_count": null,
   "id": "1d60b988-6200-4f10-b9c0-690869590a3f",
   "metadata": {},
   "outputs": [],
   "source": []
  }
 ],
 "metadata": {
  "kernelspec": {
   "display_name": "cleanRL2 [~/.conda/envs/cleanRL2/]",
   "language": "python",
   "name": "conda_cleanrl2"
  },
  "language_info": {
   "codemirror_mode": {
    "name": "ipython",
    "version": 3
   },
   "file_extension": ".py",
   "mimetype": "text/x-python",
   "name": "python",
   "nbconvert_exporter": "python",
   "pygments_lexer": "ipython3",
   "version": "3.10.14"
  }
 },
 "nbformat": 4,
 "nbformat_minor": 5
}
